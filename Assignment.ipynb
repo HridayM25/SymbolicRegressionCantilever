{
 "cells": [
  {
   "cell_type": "code",
   "execution_count": 3,
   "id": "4f7a5559",
   "metadata": {},
   "outputs": [
    {
     "data": {
      "text/plain": [
       "'\\n# Importing Libraries\\n'"
      ]
     },
     "execution_count": 3,
     "metadata": {},
     "output_type": "execute_result"
    }
   ],
   "source": [
    "\n",
    "\"\"\"\n",
    "# Importing Libraries\n",
    "\"\"\""
   ]
  },
  {
   "cell_type": "code",
   "execution_count": 7,
   "id": "9619885b",
   "metadata": {},
   "outputs": [],
   "source": [
    "\n",
    "import numpy as np\n",
    "import pandas as pd\n",
    "import os\n",
    "import matplotlib.pyplot as plt\n",
    "import seaborn as sns\n",
    "import plotly.express as px\n",
    "import warnings\n",
    "from geopy.geocoders import Nominatim\n",
    "from geopy.extra.rate_limiter import RateLimiter"
   ]
  },
  {
   "cell_type": "code",
   "execution_count": null,
   "id": "eee17666",
   "metadata": {},
   "outputs": [],
   "source": [
    "# Suppress warnings for cleaner output\n",
    "warnings.filterwarnings('ignore')"
   ]
  },
  {
   "cell_type": "code",
   "execution_count": 2,
   "id": "19178b1b",
   "metadata": {},
   "outputs": [
    {
     "name": "stdout",
     "output_type": "stream",
     "text": [
      "Collecting geopy\n",
      "  Downloading geopy-2.4.1-py3-none-any.whl (125 kB)\n",
      "     -------------------------------------- 125.4/125.4 KB 2.5 MB/s eta 0:00:00\n",
      "Collecting geographiclib<3,>=1.52\n",
      "  Downloading geographiclib-2.0-py3-none-any.whl (40 kB)\n",
      "     ---------------------------------------- 40.3/40.3 KB 1.9 MB/s eta 0:00:00\n",
      "Installing collected packages: geographiclib, geopyNote: you may need to restart the kernel to use updated packages.\n"
     ]
    },
    {
     "name": "stderr",
     "output_type": "stream",
     "text": [
      "WARNING: Ignoring invalid distribution -rotobuf (c:\\users\\hrida\\anaconda3\\lib\\site-packages)\n",
      "WARNING: Ignoring invalid distribution -rotobuf (c:\\users\\hrida\\anaconda3\\lib\\site-packages)\n",
      "WARNING: Ignoring invalid distribution -rotobuf (c:\\users\\hrida\\anaconda3\\lib\\site-packages)\n",
      "WARNING: Ignoring invalid distribution -rotobuf (c:\\users\\hrida\\anaconda3\\lib\\site-packages)\n",
      "WARNING: Ignoring invalid distribution -rotobuf (c:\\users\\hrida\\anaconda3\\lib\\site-packages)\n",
      "WARNING: Ignoring invalid distribution -rotobuf (c:\\users\\hrida\\anaconda3\\lib\\site-packages)\n",
      "WARNING: You are using pip version 22.0.4; however, version 24.3.1 is available.\n",
      "You should consider upgrading via the 'c:\\Users\\hrida\\anaconda3\\python.exe -m pip install --upgrade pip' command.\n"
     ]
    },
    {
     "name": "stdout",
     "output_type": "stream",
     "text": [
      "\n",
      "Successfully installed geographiclib-2.0 geopy-2.4.1\n"
     ]
    }
   ],
   "source": [
    "pip install geopy"
   ]
  },
  {
   "cell_type": "code",
   "execution_count": null,
   "id": "61a4a3d5",
   "metadata": {},
   "outputs": [],
   "source": [
    "\n",
    "# Display all input files in the directory\n",
    "for dirname, _, filenames in os.walk('/kaggle/input'):\n",
    "    for filename in filenames:\n",
    "        print(os.path.join(dirname, filename))"
   ]
  },
  {
   "cell_type": "code",
   "execution_count": 4,
   "id": "a03467a9",
   "metadata": {},
   "outputs": [],
   "source": [
    "\n",
    "# Load the dataset\n",
    "df = pd.read_csv('cc.csv')\n"
   ]
  },
  {
   "cell_type": "code",
   "execution_count": 5,
   "id": "f79fec14",
   "metadata": {},
   "outputs": [
    {
     "data": {
      "text/html": [
       "<div>\n",
       "<style scoped>\n",
       "    .dataframe tbody tr th:only-of-type {\n",
       "        vertical-align: middle;\n",
       "    }\n",
       "\n",
       "    .dataframe tbody tr th {\n",
       "        vertical-align: top;\n",
       "    }\n",
       "\n",
       "    .dataframe thead th {\n",
       "        text-align: right;\n",
       "    }\n",
       "</style>\n",
       "<table border=\"1\" class=\"dataframe\">\n",
       "  <thead>\n",
       "    <tr style=\"text-align: right;\">\n",
       "      <th></th>\n",
       "      <th>Rank</th>\n",
       "      <th>City</th>\n",
       "      <th>AverageTCI</th>\n",
       "      <th>MaxTCI</th>\n",
       "    </tr>\n",
       "  </thead>\n",
       "  <tbody>\n",
       "    <tr>\n",
       "      <th>0</th>\n",
       "      <td>1</td>\n",
       "      <td>Lagos</td>\n",
       "      <td>60.16</td>\n",
       "      <td>130.21</td>\n",
       "    </tr>\n",
       "    <tr>\n",
       "      <th>1</th>\n",
       "      <td>2</td>\n",
       "      <td>Riga</td>\n",
       "      <td>47.12</td>\n",
       "      <td>87.51</td>\n",
       "    </tr>\n",
       "    <tr>\n",
       "      <th>2</th>\n",
       "      <td>3</td>\n",
       "      <td>Mumbai</td>\n",
       "      <td>38.37</td>\n",
       "      <td>153.41</td>\n",
       "    </tr>\n",
       "    <tr>\n",
       "      <th>3</th>\n",
       "      <td>4</td>\n",
       "      <td>Tehran</td>\n",
       "      <td>38.20</td>\n",
       "      <td>110.12</td>\n",
       "    </tr>\n",
       "    <tr>\n",
       "      <th>4</th>\n",
       "      <td>5</td>\n",
       "      <td>London</td>\n",
       "      <td>38.16</td>\n",
       "      <td>128.50</td>\n",
       "    </tr>\n",
       "  </tbody>\n",
       "</table>\n",
       "</div>"
      ],
      "text/plain": [
       "   Rank    City  AverageTCI  MaxTCI\n",
       "0     1   Lagos       60.16  130.21\n",
       "1     2    Riga       47.12   87.51\n",
       "2     3  Mumbai       38.37  153.41\n",
       "3     4  Tehran       38.20  110.12\n",
       "4     5  London       38.16  128.50"
      ]
     },
     "execution_count": 5,
     "metadata": {},
     "output_type": "execute_result"
    }
   ],
   "source": [
    "# Display first few rows of the dataset\n",
    "df.head()"
   ]
  },
  {
   "cell_type": "code",
   "execution_count": null,
   "id": "0f6edff7",
   "metadata": {},
   "outputs": [],
   "source": [
    "\n",
    "\"\"\"\n",
    "# Data Preprocessing\n",
    "\"\"\""
   ]
  },
  {
   "cell_type": "code",
   "execution_count": 8,
   "id": "fc7d0b34",
   "metadata": {},
   "outputs": [],
   "source": [
    "\n",
    "# Geocoding city locations to extract latitude and longitude\n",
    "geolocator = Nominatim(user_agent=\"traffic_analysis\")\n",
    "geocode = RateLimiter(geolocator.geocode, min_delay_seconds=1)"
   ]
  },
  {
   "cell_type": "code",
   "execution_count": 9,
   "id": "45bc9486",
   "metadata": {},
   "outputs": [],
   "source": [
    "df['location'] = df['City'].apply(geocode)\n",
    "df['point'] = df['location'].apply(lambda loc: tuple(loc.point) if loc else None)"
   ]
  },
  {
   "cell_type": "code",
   "execution_count": 10,
   "id": "025f4ab4",
   "metadata": {},
   "outputs": [],
   "source": [
    "# Extract latitude and longitude from point\n",
    "df['latitude'] = df['point'].str[0]\n",
    "df['longitude'] = df['point'].str[1]"
   ]
  },
  {
   "cell_type": "code",
   "execution_count": 11,
   "id": "c139fb6d",
   "metadata": {},
   "outputs": [
    {
     "name": "stdout",
     "output_type": "stream",
     "text": [
      "<class 'pandas.core.frame.DataFrame'>\n",
      "RangeIndex: 68 entries, 0 to 67\n",
      "Data columns (total 8 columns):\n",
      " #   Column      Non-Null Count  Dtype  \n",
      "---  ------      --------------  -----  \n",
      " 0   Rank        68 non-null     int64  \n",
      " 1   City        68 non-null     object \n",
      " 2   AverageTCI  68 non-null     float64\n",
      " 3   MaxTCI      68 non-null     float64\n",
      " 4   location    68 non-null     object \n",
      " 5   point       68 non-null     object \n",
      " 6   latitude    68 non-null     float64\n",
      " 7   longitude   68 non-null     float64\n",
      "dtypes: float64(4), int64(1), object(3)\n",
      "memory usage: 4.4+ KB\n"
     ]
    }
   ],
   "source": [
    "# Display updated DataFrame\n",
    "df.info()"
   ]
  },
  {
   "cell_type": "code",
   "execution_count": null,
   "id": "64d8384a",
   "metadata": {},
   "outputs": [],
   "source": [
    "\n",
    "\"\"\"\n",
    "# Average Traffic Congestion Index (TCI)\n",
    "\"\"\""
   ]
  },
  {
   "cell_type": "code",
   "execution_count": null,
   "id": "e36dfc3e",
   "metadata": {},
   "outputs": [],
   "source": [
    "\n",
    "# Top 10 cities with the highest Average TCI\n",
    "df.sort_values(by=\"AverageTCI\", ascending=False).head(10).plot.barh(x='City', y='AverageTCI', title=\"Top 10 Cities by Average TCI\")"
   ]
  },
  {
   "cell_type": "code",
   "execution_count": null,
   "id": "06ae9b7b",
   "metadata": {},
   "outputs": [],
   "source": [
    "\n",
    "\"\"\"\n",
    "# Global Map of Average TCI\n",
    "\"\"\""
   ]
  },
  {
   "cell_type": "code",
   "execution_count": null,
   "id": "972eb1dc",
   "metadata": {},
   "outputs": [],
   "source": [
    "\n",
    "# Plotting global map using average TCI\n",
    "fig = px.scatter_mapbox(\n",
    "    df,\n",
    "    lat='latitude',\n",
    "    lon='longitude',\n",
    "    hover_name='City',\n",
    "    hover_data=['AverageTCI'],\n",
    "    color='AverageTCI',\n",
    "    size=\"AverageTCI\",\n",
    "    size_max=20,\n",
    "    opacity=0.4,\n",
    "    center={'lat': 50, 'lon': 9},\n",
    "    zoom=1,\n",
    "    height=700,\n",
    "    width=1000\n",
    ")\n",
    "fig.update_layout(mapbox_style='open-street-map')\n",
    "fig.update_layout(margin={\"r\": 0, \"t\": 0, \"l\": 0, \"b\": 0}, title_text=\"City Map for Average TCI\")\n",
    "fig.show()"
   ]
  },
  {
   "cell_type": "code",
   "execution_count": null,
   "id": "38756174",
   "metadata": {},
   "outputs": [],
   "source": [
    "\n",
    "\"\"\"\n",
    "# Case Study: Lagos\n",
    "\"\"\""
   ]
  },
  {
   "cell_type": "markdown",
   "id": "b103763b",
   "metadata": {},
   "source": [
    "Insights about Lagos' traffic situation are included in the markdown sections."
   ]
  },
  {
   "cell_type": "code",
   "execution_count": null,
   "id": "6cd8be4d",
   "metadata": {},
   "outputs": [],
   "source": [
    "\n",
    "\"\"\"\n",
    "# Max Traffic Congestion Index (TCI)\n",
    "\"\"\""
   ]
  },
  {
   "cell_type": "code",
   "execution_count": null,
   "id": "95fee034",
   "metadata": {},
   "outputs": [],
   "source": [
    "\n",
    "# Top 10 cities with the highest Max TCI\n",
    "df.sort_values(by=\"MaxTCI\", ascending=False).head(10).plot.barh(x='City', y='MaxTCI', title=\"Top 10 Cities by Max TCI\")"
   ]
  },
  {
   "cell_type": "code",
   "execution_count": null,
   "id": "5a316da9",
   "metadata": {},
   "outputs": [],
   "source": [
    "\n",
    "\"\"\"\n",
    "# Global Map of Max TCI\n",
    "\"\"\""
   ]
  },
  {
   "cell_type": "code",
   "execution_count": null,
   "id": "26635dac",
   "metadata": {},
   "outputs": [],
   "source": [
    "\n",
    "# Plotting global map using maximum TCI\n",
    "fig = px.scatter_mapbox(\n",
    "    df,\n",
    "    lat='latitude',\n",
    "    lon='longitude',\n",
    "    hover_name='City',\n",
    "    hover_data=['MaxTCI'],\n",
    "    color='MaxTCI',\n",
    "    size=\"MaxTCI\",\n",
    "    size_max=20,\n",
    "    opacity=0.4,\n",
    "    center={'lat': 50, 'lon': 9},\n",
    "    zoom=1,\n",
    "    height=700,\n",
    "    width=1000\n",
    ")\n",
    "fig.update_layout(mapbox_style='open-street-map')\n",
    "fig.update_layout(margin={\"r\": 0, \"t\": 0, \"l\": 0, \"b\": 0}, title_text=\"City Map for Max TCI\")\n",
    "fig.show()"
   ]
  },
  {
   "cell_type": "code",
   "execution_count": null,
   "id": "958c7f85",
   "metadata": {},
   "outputs": [],
   "source": [
    "\n",
    "\"\"\"\n",
    "# Case Study: Istanbul\n",
    "\"\"\""
   ]
  },
  {
   "cell_type": "markdown",
   "id": "1635ba59",
   "metadata": {},
   "source": [
    "Insights about Istanbul's traffic situation are included in the markdown sections."
   ]
  },
  {
   "cell_type": "code",
   "execution_count": null,
   "id": "c2192952",
   "metadata": {},
   "outputs": [],
   "source": [
    "\n",
    "\"\"\"\n",
    "# Insight\n",
    "\"\"\""
   ]
  },
  {
   "cell_type": "markdown",
   "id": "d1b847ec",
   "metadata": {},
   "source": [
    "Markdown provides insights about traffic congestion in Lagos, Istanbul, and Tokyo. "
   ]
  },
  {
   "cell_type": "code",
   "execution_count": null,
   "id": "c7e4363a",
   "metadata": {},
   "outputs": [],
   "source": [
    "\n",
    "# Example: Inspect data for Tokyo\n",
    "df[df['City'] == 'Tokyo']"
   ]
  },
  {
   "cell_type": "markdown",
   "id": "22956315",
   "metadata": {},
   "source": [
    "Markdown includes detailed insights based on the provided population data and academic research."
   ]
  },
  {
   "cell_type": "code",
   "execution_count": null,
   "id": "4cbf6726",
   "metadata": {
    "lines_to_next_cell": 2
   },
   "outputs": [],
   "source": [
    "\n",
    "\"\"\"\n",
    "Thank you!\n",
    "\"\"\""
   ]
  },
  {
   "cell_type": "code",
   "execution_count": null,
   "id": "1c95e2c4",
   "metadata": {},
   "outputs": [],
   "source": [
    "\"\"\" \n",
    "\n",
    "###################################################################################################\n",
    "Case Study: Lagos\n",
    "\n",
    "\n",
    "Lagos ranks highest in Average Traffic Congestion Index (TCI). What is contributing to such high congestion levels?\n",
    "\n",
    "According to the article 'Traffic Congestion in Lagos':\n",
    "\n",
    "Impact of Traffic Congestion in Lagos:\n",
    "Extensive traffic delays: Commuters spend at least three hours in traffic daily.\n",
    "High accident rates: Fatal accident rate in Lagos is 28 per 100,000 people — three times higher than in most European cities.\n",
    "Air pollution: Over five times greater than the recommended limit.\n",
    "Efforts to Mitigate Congestion:\n",
    "Bus Rapid Transit (BRT):\n",
    "Implemented by Lagos Metropolitan Area Transport Authority (LAMATA).\n",
    "Dedicated lanes for buses; serves over 200,000 passengers daily.\n",
    "Minibus taxis ('Danfos'): Provides additional public transport capacity.\n",
    "Future Plans for Lagos:\n",
    "Integrated transport system: Linking road, rail, and waterways.\n",
    "New airport: Located further from urban areas.\n",
    "Expanded urban developments: Reducing travel demand by integrating residential and commercial areas.\n",
    "Improved walking and cycling infrastructure: Encouraging sustainable travel.\n",
    "\n",
    "\n",
    "\n",
    "##################################################################################################\n",
    "Case Study: Istanbul\n",
    "Istanbul has the highest MaxTCI among global cities. What challenges and strategies define the congestion problem in Istanbul?\n",
    "\n",
    "Based on the report 'World Design Talks: Traffic Congestion in Istanbul':\n",
    "\n",
    "Causes of Congestion in Istanbul:\n",
    "Rapid urbanization, with a population growing from 14 million to an estimated 20–22 million by 2020.\n",
    "Poorly planned transportation infrastructure.\n",
    "Ineffective traffic management systems, including poorly timed signals.\n",
    "Lack of integration of waterways for transport.\n",
    "Economic and Environmental Costs:\n",
    "3 billion Turkish Liras/year lost due to congestion, fuel wastage, and productivity losses.\n",
    "Significant greenhouse gas emissions contributing to health challenges.\n",
    "Solutions to Address Congestion:\n",
    "Short-term:\n",
    "Public transport incentives and congestion pricing.\n",
    "Real-time information systems for better route planning.\n",
    "Mid-term:\n",
    "Promoting car-free zones and increasing pedestrian/bicycle connectivity.\n",
    "Supporting telecommuting and staggered work hours.\n",
    "Long-term:\n",
    "Integrating rail, road, and water transport networks.\n",
    "Upgrading roadway security systems and expanding rail lines.\n",
    "Leveraging technology for smarter transportation choices.\n",
    "\n",
    "################################################################################################\n",
    "Insight: Comparing Lagos and Istanbul\n",
    "Both Lagos and Istanbul face similar challenges:\n",
    "\n",
    "Rapidly growing populations (~15 million).\n",
    "Outdated infrastructure unable to keep pace with increasing demand.\n",
    "Population Trends:\n",
    "Lagos: Rapid growth exacerbates congestion and pollution.\n",
    "Istanbul: Struggles with poor urban planning and inadequate public transport.\n",
    "Lessons from Istanbul:\n",
    "The integration of rail, road, and waterways — along with policies like congestion pricing and pedestrian-friendly initiatives — offers insights into long-term solutions for cities like Lagos.\n",
    "\n",
    "Tokyo as a Benchmark:\n",
    "Tokyo, with a population exceeding 37 million in its metro area, demonstrates the role of well-organized public transport (e.g., extensive rail systems) in alleviating congestion and reducing carbon emissions.\n",
    "\n",
    "By considering sustainable infrastructure and public transport strategies, cities can mitigate congestion challenges and achieve broader environmental goals.\n",
    "\n",
    "\n",
    "\n",
    "\"\"\""
   ]
  }
 ],
 "metadata": {
  "jupytext": {
   "cell_metadata_filter": "-all",
   "main_language": "python",
   "notebook_metadata_filter": "-all"
  },
  "kernelspec": {
   "display_name": "Python 3",
   "language": "python",
   "name": "python3"
  },
  "language_info": {
   "codemirror_mode": {
    "name": "ipython",
    "version": 3
   },
   "file_extension": ".py",
   "mimetype": "text/x-python",
   "name": "python",
   "nbconvert_exporter": "python",
   "pygments_lexer": "ipython3",
   "version": "3.9.7"
  }
 },
 "nbformat": 4,
 "nbformat_minor": 5
}
