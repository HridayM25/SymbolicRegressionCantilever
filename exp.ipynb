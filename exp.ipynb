{
 "cells": [
  {
   "cell_type": "code",
   "execution_count": 24,
   "metadata": {},
   "outputs": [],
   "source": [
    "import numpy as np\n",
    "import pandas as pd\n",
    "import os\n",
    "import matplotlib.pyplot as plt\n",
    "import plotly.io as pio\n",
    "pio.renderers.default = \"browser\"\n"
   ]
  },
  {
   "cell_type": "code",
   "execution_count": 33,
   "metadata": {},
   "outputs": [],
   "source": [
    "\n",
    "filename = [15,17,21,23,72]\n",
    "dfs = {i: pd.read_csv(f\"{i}.csv\") for i in filename}"
   ]
  },
  {
   "cell_type": "code",
   "execution_count": 21,
   "metadata": {},
   "outputs": [
    {
     "data": {
      "text/plain": [
       "Index(['Frequency (Hz) - Wvfm 0->Plot 0',\n",
       "       'Magnitude (response/impact) - Wvfm 0->Plot 0',\n",
       "       'Frequency (Hz) - Wvfm 1->Plot 0', 'Phase (deg) - Wvfm 1->Plot 0',\n",
       "       'Frequency (Hz) - Wvfm 2->Plot 0', 'Coherence - Wvfm 2->Plot 0'],\n",
       "      dtype='object')"
      ]
     },
     "execution_count": 21,
     "metadata": {},
     "output_type": "execute_result"
    }
   ],
   "source": [
    "df.columns"
   ]
  },
  {
   "cell_type": "code",
   "execution_count": 36,
   "metadata": {},
   "outputs": [],
   "source": [
    "def plot_data(df):\n",
    "    plots = [\n",
    "        ('Frequency (Hz) - Wvfm 0->Plot 0', 'Magnitude (response/impact) - Wvfm 0->Plot 0'),\n",
    "        ('Frequency (Hz) - Wvfm 1->Plot 0', 'Phase (deg) - Wvfm 1->Plot 0'),\n",
    "        ('Frequency (Hz) - Wvfm 2->Plot 0', 'Coherence - Wvfm 2->Plot 0')\n",
    "    ]\n",
    "\n",
    "    # for x_col, y_col in plots:\n",
    "    #     fig = px.line(df, x=x_col, y=y_col, title=f'{y_col} vs {x_col}')\n",
    "    #     fig.show()\n",
    "\n",
    "    find_natural_frequency(df)\n",
    "\n",
    "def find_natural_frequency(df):\n",
    "    coherence_col = 'Coherence - Wvfm 2->Plot 0'\n",
    "    frequency_col = 'Frequency (Hz) - Wvfm 2->Plot 0'\n",
    "\n",
    "    max_coherence_idx = np.argmax(df[coherence_col])\n",
    "    natural_frequency = df[frequency_col][max_coherence_idx]\n",
    "\n",
    "    print(f\"coherence peak: {natural_frequency} Hz\")\n",
    "\n",
    "    phase_col = 'Phase (deg) - Wvfm 1->Plot 0'\n",
    "    freq_phase_col = 'Frequency (Hz) - Wvfm 1->Plot 0'\n",
    "\n",
    "    phase_diff = np.gradient(df[phase_col])\n",
    "    rapid_phase_change_idx = np.argmax(abs(phase_diff))\n",
    "    rapid_phase_change_freq = df[freq_phase_col][rapid_phase_change_idx]\n",
    "\n",
    "    print(f\"phase change: {rapid_phase_change_freq} Hz\")\n"
   ]
  },
  {
   "cell_type": "code",
   "execution_count": 39,
   "metadata": {},
   "outputs": [
    {
     "name": "stdout",
     "output_type": "stream",
     "text": [
      "coherence peak: 1 Hz\n",
      "phase change: 251 Hz\n"
     ]
    }
   ],
   "source": [
    "plot_data(dfs[23])"
   ]
  },
  {
   "cell_type": "code",
   "execution_count": null,
   "metadata": {},
   "outputs": [],
   "source": []
  }
 ],
 "metadata": {
  "kernelspec": {
   "display_name": "marl_p",
   "language": "python",
   "name": "python3"
  },
  "language_info": {
   "codemirror_mode": {
    "name": "ipython",
    "version": 3
   },
   "file_extension": ".py",
   "mimetype": "text/x-python",
   "name": "python",
   "nbconvert_exporter": "python",
   "pygments_lexer": "ipython3",
   "version": "3.10.16"
  }
 },
 "nbformat": 4,
 "nbformat_minor": 2
}
